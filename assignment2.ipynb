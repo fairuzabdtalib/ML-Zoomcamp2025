{
 "cells": [
  {
   "cell_type": "code",
   "execution_count": 2,
   "id": "3be04ba5",
   "metadata": {},
   "outputs": [],
   "source": [
    "import pandas as pd\n",
    "import numpy as np\n",
    "\n",
    "source_data = pd.read_csv(r\"C:\\Users\\10086211\\Documents\\Py Projects\\ML Zoomcamp\\Assignment 2\\car_fuel_efficiency.csv\")\n",
    "\n",
    "# Data Preparation\n",
    "data = source_data.loc[:, ['engine_displacement', 'horsepower', 'vehicle_weight', 'model_year', 'fuel_efficiency_mpg']]"
   ]
  },
  {
   "cell_type": "markdown",
   "id": "8f996062",
   "metadata": {},
   "source": [
    "Question 1: There's one column with missing values. What is it?"
   ]
  },
  {
   "cell_type": "code",
   "execution_count": 3,
   "id": "bb3f84c2",
   "metadata": {},
   "outputs": [
    {
     "name": "stdout",
     "output_type": "stream",
     "text": [
      "engine_displacement      0\n",
      "horsepower             708\n",
      "vehicle_weight           0\n",
      "model_year               0\n",
      "fuel_efficiency_mpg      0\n",
      "dtype: int64\n"
     ]
    }
   ],
   "source": [
    "missing_values_per_column = data.isnull().sum()\n",
    "print(missing_values_per_column)"
   ]
  },
  {
   "cell_type": "markdown",
   "id": "74decbee",
   "metadata": {},
   "source": [
    "Question 2: What's the median (50% percentile) for variable 'horsepower'?"
   ]
  },
  {
   "cell_type": "code",
   "execution_count": 4,
   "id": "4823c123",
   "metadata": {},
   "outputs": [
    {
     "name": "stdout",
     "output_type": "stream",
     "text": [
      "149.0\n"
     ]
    }
   ],
   "source": [
    "median_horsepower = data['horsepower'].median()\n",
    "print(median_horsepower)"
   ]
  },
  {
   "cell_type": "markdown",
   "id": "615272bf",
   "metadata": {},
   "source": [
    "Prepare and split the dataset. Shuffle the dataset (the filtered one you created above), use seed 42. Split the data in train/val/test sets, with 60%/20%/20% distribution."
   ]
  },
  {
   "cell_type": "code",
   "execution_count": 5,
   "id": "8ce27c1a",
   "metadata": {},
   "outputs": [],
   "source": [
    "np.random.seed(42)\n",
    "n = len(data)\n",
    "\n",
    "n_val = int(n * 0.2)\n",
    "n_test = int(n * 0.2)\n",
    "n_train = n - (n_val + n_test)\n",
    "\n",
    "idx = np.arange(n)\n",
    "np.random.shuffle(idx)\n",
    "\n",
    "df_shuffled = data.iloc[idx]\n",
    "\n",
    "df_train = df_shuffled.iloc[:n_train].copy().reset_index(drop=True)\n",
    "df_val = df_shuffled.iloc[n_train:n_train+n_val].copy().reset_index(drop=True)\n",
    "df_test = df_shuffled.iloc[n_train+n_val:].copy().reset_index(drop=True)"
   ]
  },
  {
   "cell_type": "markdown",
   "id": "1dba6247",
   "metadata": {},
   "source": [
    "Question 3: \n",
    "We need to deal with missing values for the column from Question 1.\n",
    "We have two options: fill it with 0 or with the mean of this variable.\n",
    "Try both options. For each, train a linear regression model without regularization using the code from the lessons.\n",
    "For computing the mean, use the training only!\n",
    "Use the validation dataset to evaluate the models and compare the RMSE of each option.\n",
    "Round the RMSE scores to 2 decimal digits using round(score, 2)\n",
    "Which option gives better RMSE?"
   ]
  },
  {
   "cell_type": "code",
   "execution_count": 6,
   "id": "027f0a60",
   "metadata": {},
   "outputs": [
    {
     "name": "stdout",
     "output_type": "stream",
     "text": [
      "RMSE with zero-fill: 0.04\n",
      "RMSE with mean-fill: 0.04\n",
      "Both imputation methods give the same RMSE.\n"
     ]
    }
   ],
   "source": [
    "y_train = np.log1p(df_train.fuel_efficiency_mpg.values)\n",
    "y_val = np.log1p(df_val.fuel_efficiency_mpg.values)\n",
    "y_test = np.log1p(df_test.fuel_efficiency_mpg.values)\n",
    "\n",
    "del df_train['fuel_efficiency_mpg']\n",
    "del df_val['fuel_efficiency_mpg']\n",
    "del df_test['fuel_efficiency_mpg']\n",
    "\n",
    "def train_linear_regression(X, y, r=0.0):\n",
    "    ones = np.ones(X.shape[0])\n",
    "    X = np.column_stack([ones, X])\n",
    "\n",
    "    XTX = X.T.dot(X)\n",
    "    \n",
    "    # Add regularization term\n",
    "    reg = r * np.eye(XTX.shape[0])\n",
    "    XTX = XTX + reg\n",
    "\n",
    "    XTX_inv = np.linalg.inv(XTX)\n",
    "    w = XTX_inv.dot(X.T).dot(y)\n",
    "    \n",
    "    return w[0], w[1:]\n",
    "\n",
    "def prepare_X(df, fill_value=0):\n",
    "    df_num = df.copy()\n",
    "    df_num = df_num.fillna(fill_value)\n",
    "    X = df_num.values\n",
    "    return X\n",
    "\n",
    "def rmse(y, y_pred):\n",
    "    error = y_pred - y\n",
    "    mse = (error ** 2).mean()\n",
    "    return np.sqrt(mse)\n",
    "\n",
    "# Option 1: Fill with 0\n",
    "X_train_zero = prepare_X(df_train, fill_value=0)\n",
    "w_0_zero, w_zero = train_linear_regression(X_train_zero, y_train)\n",
    "\n",
    "X_val_zero = prepare_X(df_val, fill_value=0)\n",
    "y_pred_zero = w_0_zero + X_val_zero.dot(w_zero)\n",
    "rmse_zero = rmse(y_val, y_pred_zero)\n",
    "print(f\"RMSE with zero-fill: {round(rmse_zero, 2)}\")\n",
    "\n",
    "# Option 2: Fill with mean\n",
    "mean_hp = df_train.horsepower.mean()\n",
    "X_train_mean = prepare_X(df_train, fill_value=mean_hp)\n",
    "w_0_mean, w_mean = train_linear_regression(X_train_mean, y_train)\n",
    "\n",
    "X_val_mean = prepare_X(df_val, fill_value=mean_hp)\n",
    "y_pred_mean = w_0_mean + X_val_mean.dot(w_mean)\n",
    "rmse_mean = rmse(y_val, y_pred_mean)\n",
    "print(f\"RMSE with mean-fill: {round(rmse_mean, 2)}\")\n",
    "\n",
    "if round(rmse_mean, 2) < round(rmse_zero, 2):\n",
    "    print(\"Filling with the mean gives a better RMSE.\")\n",
    "elif round(rmse_zero, 2) < round(rmse_mean, 2):\n",
    "    print(\"Filling with zero gives a better RMSE.\")\n",
    "else:\n",
    "    print(\"Both imputation methods give the same RMSE.\")"
   ]
  },
  {
   "cell_type": "markdown",
   "id": "483cf1b9",
   "metadata": {},
   "source": [
    "Question 4: \n",
    "Now let's train a regularized linear regression.\n",
    "For this question, fill the NAs with 0.\n",
    "Try different values of r from this list: [0, 0.01, 0.1, 1, 5, 10, 100]\n",
    "Use RMSE to evaluate the model on the validation dataset.\n",
    "Round the RMSE scores to 2 decimal digits.\n",
    "Which r gives the best RMSE?\n",
    "If multiple options give the same best RMSE, select the smallest r."
   ]
  },
  {
   "cell_type": "code",
   "execution_count": 7,
   "id": "0f6c0768",
   "metadata": {},
   "outputs": [
    {
     "name": "stdout",
     "output_type": "stream",
     "text": [
      "r=0, Rounded RMSE=0.04, Raw RMSE=0.0399792578229878\n",
      "r=0.01, Rounded RMSE=0.04, Raw RMSE=0.03997787201794628\n",
      "r=0.1, Rounded RMSE=0.04, Raw RMSE=0.04050873984549153\n",
      "r=1, Rounded RMSE=0.04, Raw RMSE=0.04135385150826845\n",
      "r=5, Rounded RMSE=0.04, Raw RMSE=0.04150611823274443\n",
      "r=10, Rounded RMSE=0.04, Raw RMSE=0.041526801237522025\n",
      "r=100, Rounded RMSE=0.04, Raw RMSE=0.04154575656081158\n"
     ]
    }
   ],
   "source": [
    "r_values = [0, 0.01, 0.1, 1, 5, 10, 100]\n",
    "\n",
    "for r in r_values:\n",
    "    w_0, w = train_linear_regression(X_train_zero, y_train, r=r)\n",
    "    y_pred = w_0 + X_val_zero.dot(w)\n",
    "    score = rmse(y_val, y_pred)\n",
    "    print(f\"r={r}, Rounded RMSE={round(score, 2)}, Raw RMSE={score}\")"
   ]
  },
  {
   "cell_type": "markdown",
   "id": "d0c841ad",
   "metadata": {},
   "source": [
    "Question 5:\n",
    "We used seed 42 for splitting the data. Let's find out how selecting the seed influences our score.\n",
    "Try different seed values: [0, 1, 2, 3, 4, 5, 6, 7, 8, 9].\n",
    "For each seed, do the train/validation/test split with 60%/20%/20% distribution.\n",
    "Fill the missing values with 0 and train a model without regularization.\n",
    "For each seed, evaluate the model on the validation dataset and collect the RMSE scores.\n",
    "What's the standard deviation of all the scores? To compute the standard deviation, use np.std.\n",
    "Round the result to 3 decimal digits (round(std, 3))"
   ]
  },
  {
   "cell_type": "code",
   "execution_count": 8,
   "id": "5d8818af",
   "metadata": {},
   "outputs": [
    {
     "name": "stdout",
     "output_type": "stream",
     "text": [
      "Standard deviation of RMSE scores: 0.001\n"
     ]
    }
   ],
   "source": [
    "seeds = [0, 1, 2, 3, 4, 5, 6, 7, 8, 9]\n",
    "rmse_scores = []\n",
    "\n",
    "for seed in seeds:\n",
    "    np.random.seed(seed)\n",
    "    \n",
    "    n = len(data)\n",
    "    n_val = int(n * 0.2)\n",
    "    n_test = int(n * 0.2)\n",
    "    n_train = n - (n_val + n_test)\n",
    "\n",
    "    idx = np.arange(n)\n",
    "    np.random.shuffle(idx)\n",
    "    df_shuffled = data.iloc[idx]\n",
    "\n",
    "    df_train_seed = df_shuffled.iloc[:n_train].copy().reset_index(drop=True)\n",
    "    df_val_seed = df_shuffled.iloc[n_train:n_train+n_val].copy().reset_index(drop=True)\n",
    "\n",
    "    y_train_seed = np.log1p(df_train_seed.fuel_efficiency_mpg.values)\n",
    "    y_val_seed = np.log1p(df_val_seed.fuel_efficiency_mpg.values)\n",
    "\n",
    "    X_train_seed = prepare_X(df_train_seed.drop('fuel_efficiency_mpg', axis=1), fill_value=0)\n",
    "    w_0, w = train_linear_regression(X_train_seed, y_train_seed, r=0)\n",
    "    \n",
    "    X_val_seed = prepare_X(df_val_seed.drop('fuel_efficiency_mpg', axis=1), fill_value=0)\n",
    "    y_pred_seed = w_0 + X_val_seed.dot(w)\n",
    "    score = rmse(y_val_seed, y_pred_seed)\n",
    "    rmse_scores.append(score)\n",
    "\n",
    "std_dev = np.std(rmse_scores)\n",
    "print(f\"Standard deviation of RMSE scores: {round(std_dev, 3)}\")"
   ]
  },
  {
   "cell_type": "markdown",
   "id": "31c57c77",
   "metadata": {},
   "source": [
    "Question 6:\n",
    "Split the dataset like previously, use seed 9.\n",
    "Combine train and validation datasets.\n",
    "Fill the missing values with 0 and train a model with r=0.001.\n",
    "What's the RMSE on the test dataset?"
   ]
  },
  {
   "cell_type": "code",
   "execution_count": 9,
   "id": "b297909d",
   "metadata": {},
   "outputs": [
    {
     "name": "stdout",
     "output_type": "stream",
     "text": [
      "RMSE on the test set: 0.607\n"
     ]
    }
   ],
   "source": [
    "np.random.seed(9)\n",
    "\n",
    "n = len(data)\n",
    "n_val = int(n * 0.2)\n",
    "n_test = int(n * 0.2)\n",
    "n_train = n - (n_val + n_test)\n",
    "\n",
    "idx = np.arange(n)\n",
    "np.random.shuffle(idx)\n",
    "df_shuffled = data.iloc[idx]\n",
    "\n",
    "df_train = df_shuffled.iloc[:n_train].copy()\n",
    "df_val = df_shuffled.iloc[n_train:n_train+n_val].copy()\n",
    "df_test = df_shuffled.iloc[n_train+n_val:].copy()\n",
    "\n",
    "df_full_train = pd.concat([df_train, df_val]).reset_index(drop=True)\n",
    "y_full_train = np.log1p(df_full_train.fuel_efficiency_mpg.values)\n",
    "y_test = np.log1p(df_test.fuel_efficiency_mpg.values)\n",
    "\n",
    "X_full_train = prepare_X(df_full_train.drop('fuel_efficiency_mpg', axis=1), fill_value=0)\n",
    "w_0, w = train_linear_regression(X_full_train, y_full_train, r=0.001)\n",
    "\n",
    "X_test = prepare_X(df_test.drop('fuel_efficiency_mpg', axis=1), fill_value=0)\n",
    "y_pred = w_0 + X_test.dot(w)\n",
    "\n",
    "original_y_test = np.expm1(y_test)\n",
    "original_y_pred = np.expm1(y_pred)\n",
    "\n",
    "score = rmse(original_y_test, original_y_pred)\n",
    "\n",
    "print(f\"RMSE on the test set: {round(score, 3)}\")"
   ]
  }
 ],
 "metadata": {
  "language_info": {
   "name": "python"
  }
 },
 "nbformat": 4,
 "nbformat_minor": 5
}
